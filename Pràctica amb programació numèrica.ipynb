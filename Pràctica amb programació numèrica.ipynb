{
 "cells": [
  {
   "cell_type": "markdown",
   "id": "8b6e65c7",
   "metadata": {},
   "source": [
    "# <span style=\"color:#d50283\">S03 T04: Pràctica amb programació numèrica</span>\n",
    "\n",
    "Familiaritza't amb la Programació Numèrica a través de la llibreria NumPy."
   ]
  },
  {
   "cell_type": "markdown",
   "id": "38db6364",
   "metadata": {},
   "source": [
    "# Exercici 1\n",
    "Crea una funció que donat un Array d’una dimensió, et faci un resum estadístic bàsic de les dades. Si detecta que l’array té més d’una dimensió, ha de mostrar un missatge d’error."
   ]
  },
  {
   "cell_type": "markdown",
   "id": "2fe030ab",
   "metadata": {},
   "source": [
    "* minimum (https://numpy.org/doc/stable/reference/generated/numpy.amin.html)\n",
    "* 1st quartile (https://numpy.org/doc/stable/reference/generated/numpy.quantile.html)\n",
    "* median (https://numpy.org/doc/stable/reference/generated/numpy.median.html)\n",
    "* mean (https://numpy.org/doc/stable/reference/generated/numpy.mean.html)\n",
    "* 3rd quartile (https://numpy.org/doc/stable/reference/generated/numpy.quantile.html)\n",
    "* maximum (https://numpy.org/doc/stable/reference/generated/numpy.amax.html)\n",
    "* std (https://numpy.org/doc/stable/reference/generated/numpy.std.html)"
   ]
  },
  {
   "cell_type": "code",
   "execution_count": 2,
   "id": "d0065082",
   "metadata": {},
   "outputs": [],
   "source": [
    "import numpy as np\n",
    "from numpy import random\n",
    "import math"
   ]
  },
  {
   "cell_type": "code",
   "execution_count": 129,
   "id": "9ae6ae84",
   "metadata": {},
   "outputs": [],
   "source": [
    "def resum_Estadistic(matriz):\n",
    "    ''' calculo de un array de 1 dimensión: \n",
    "    mínimo, 1 cuartil, mediana, media,\n",
    "    3 cuartil, máximo y std'''\n",
    "    \n",
    "    if matriz.ndim==1:\n",
    "        minimo=np.amin(matriz)\n",
    "        cuartil_1=np.quantile(matriz,0.25)\n",
    "        mediana=np.median(matriz)\n",
    "        media=np.mean(matriz)\n",
    "        cuartil_3=np.quantile(matriz,0.75)\n",
    "        maximo=np.amax(matriz)\n",
    "        std=round(np.std(matriz),2)\n",
    "        \n",
    "        print(f'El mínimo de la matriz es: {minimo}.')\n",
    "        print(f'El primer cuartil de la matriz es: {cuartil_1}.')\n",
    "        print(f'La mediana de la matriz es: {mediana}.')\n",
    "        print(f'La media de la matriz es: {media}.')\n",
    "        print(f'El tercer cuartil de la matriz es: {cuartil_3}.')\n",
    "        print(f'El máximo  de la matriz es: {maximo}.')\n",
    "        print(f'La desviación estandar de la matriz: {std}.\\n')\n",
    "    else:\n",
    "        print('La matriz tiene más de una dimensión. \\nLa función calcula los valores de una matriz de una dimensión.')"
   ]
  },
  {
   "cell_type": "markdown",
   "id": "31872986",
   "metadata": {},
   "source": [
    "**Comprobación:**"
   ]
  },
  {
   "cell_type": "code",
   "execution_count": 130,
   "id": "c31e29b9",
   "metadata": {},
   "outputs": [],
   "source": [
    "def matriz():\n",
    "    '''raliza una matriz aleatoria \n",
    "    con 100 elementos del 0 al 100\n",
    "    y una dimensión'''\n",
    "    \n",
    "    matriz=random.randint(101, size=(100)) #definimos array con numero d 0 a 100 con un tamoño de 100. y una dimensión\n",
    "    print(matriz,\"\\n\")\n",
    "    return matriz\n",
    "\n"
   ]
  },
  {
   "cell_type": "code",
   "execution_count": 131,
   "id": "93d9b07f",
   "metadata": {},
   "outputs": [
    {
     "name": "stdout",
     "output_type": "stream",
     "text": [
      "[ 88  17  44  91  64  86  42  23  73  53  99  80  87  40  21  46  77  25\n",
      "  55  31  27  70   8  93  64  84  56  94  46  32  33  96  44  81  62  50\n",
      "  43  21  53  80  45  19  85  71  39  30  75  85  63 100 100  63  16  65\n",
      "  99  32  35  82  75  85  83  72  53  82  98  19  53  78  56  45  91  76\n",
      "   8  59  47  61  99  40  49  81  90  20  52  44  21  11  99  79  64  36\n",
      "  29  60  52  68  29  12  79  68  14  78] \n",
      "\n",
      "El mínimo de la matriz es: 8.\n",
      "El primer cuartil de la matriz es: 38.25.\n",
      "La mediana de la matriz es: 59.5.\n",
      "La media de la matriz es: 57.98.\n",
      "El tercer cuartil de la matriz es: 80.25.\n",
      "El máximo  de la matriz es: 100.\n",
      "La desviación estandar de la matriz: 26.12.\n",
      "\n"
     ]
    }
   ],
   "source": [
    "resum_Estadistic(matriz())"
   ]
  },
  {
   "cell_type": "markdown",
   "id": "0ccfaa92",
   "metadata": {},
   "source": [
    "## Exercici 2\n",
    "Crea una funció que et generi un quadrat NxN de nombres aleatoris entre el 0 i el 100."
   ]
  },
  {
   "cell_type": "code",
   "execution_count": 137,
   "id": "7bcfbb07",
   "metadata": {},
   "outputs": [
    {
     "name": "stdout",
     "output_type": "stream",
     "text": [
      "[[68 66 79 58 18]\n",
      " [29 18 70 32 19]\n",
      " [ 7 42 17 87 31]\n",
      " [41 29 76 20  0]\n",
      " [20 24 91  4 72]]\n"
     ]
    }
   ],
   "source": [
    "def matriz_Cuadrada(N):\n",
    "    '''Creamos una matriz cuadrada. NXN'\n",
    "     con elementos de 0 a 100'''\n",
    "    '''arg: nº de dimensiones'''\n",
    "    \n",
    "    matriz=random.randint(101, size=(N,N))\n",
    "    return matriz\n",
    "\n",
    "print(matriz_Cuadrada(5))\n",
    "    "
   ]
  },
  {
   "cell_type": "markdown",
   "id": "7175f16a",
   "metadata": {},
   "source": [
    "**Comprobación:**"
   ]
  },
  {
   "cell_type": "code",
   "execution_count": 139,
   "id": "c85908a5",
   "metadata": {},
   "outputs": [
    {
     "name": "stdout",
     "output_type": "stream",
     "text": [
      "Matriz cuadrada con 1X1 elementos:\n",
      "[[14]]\n",
      "\n",
      "Matriz cuadrada con 2X2 elementos:\n",
      "[[35 80]\n",
      " [65  0]]\n",
      "\n",
      "Matriz cuadrada con 3X3 elementos:\n",
      "[[27 32 31]\n",
      " [10 38 30]\n",
      " [94 23 26]]\n",
      "\n",
      "Matriz cuadrada con 4X4 elementos:\n",
      "[[85  6 68 54]\n",
      " [21 63 28 78]\n",
      " [78 32 37 18]\n",
      " [ 9 33 28  0]]\n",
      "\n",
      "Matriz cuadrada con 5X5 elementos:\n",
      "[[11 65 67 21 17]\n",
      " [72 26 10 57 39]\n",
      " [93 78 53 24 77]\n",
      " [86 14 34  9 39]\n",
      " [29 63 42 34 40]]\n",
      "\n"
     ]
    }
   ],
   "source": [
    "for i in range(5):\n",
    "    print(f'Matriz cuadrada con {i+1}X{i+1} elementos:')\n",
    "    print(matriz_Cuadrada(i+1))\n",
    "    print(\"\")\n"
   ]
  },
  {
   "cell_type": "markdown",
   "id": "4dd54820",
   "metadata": {},
   "source": [
    "## Exercici 3\n",
    "Crea una funció que donada una taula de dues dimensions, et calculi els totals per fila i els totals per column"
   ]
  },
  {
   "cell_type": "code",
   "execution_count": 119,
   "id": "c4fc02db",
   "metadata": {},
   "outputs": [],
   "source": [
    "def sum_2Dim(matriz):\n",
    "    '''Calcula el total por fila y columna\n",
    "    de una matriz de dos dimensiones'''\n",
    "    \n",
    "    if matriz.ndim==2:\n",
    "        sumFila= np.sum(matriz,axis=1)\n",
    "        sumColumna= np.sum(matriz,axis=0)\n",
    "        \n",
    "        print(f'El total de las filas es: {sumFila}')\n",
    "        print(f'El total de las columnas es: {sumColumna}')\n",
    "    else:\n",
    "        print(\"La matriz no tiene dos dimensiones\")"
   ]
  },
  {
   "cell_type": "code",
   "execution_count": 120,
   "id": "7dba3395",
   "metadata": {},
   "outputs": [],
   "source": [
    "def matriz_2D():\n",
    "    \n",
    "    '''Genera matriz con forma (6,5)\n",
    "    numeros del 0 al 100'''\n",
    "    matriz=random.randint(101, size=(6,5))\n",
    "    print(matriz)\n",
    "    print(\"\")\n",
    "    return matriz"
   ]
  },
  {
   "cell_type": "markdown",
   "id": "9fc01aa9",
   "metadata": {},
   "source": [
    "**Comprobacion:**"
   ]
  },
  {
   "cell_type": "code",
   "execution_count": 123,
   "id": "b061b80a",
   "metadata": {},
   "outputs": [
    {
     "name": "stdout",
     "output_type": "stream",
     "text": [
      "[[100   0   0  30  33]\n",
      " [ 22  60  21  32   7]\n",
      " [ 44  26  36  10  78]\n",
      " [ 74  73   6  18  33]\n",
      " [ 19  13  16  41  58]\n",
      " [ 79  44  46  30  74]]\n",
      "\n",
      "El total de las filas es: [163 142 194 204 147 273]\n",
      "El total de las columnas es: [338 216 125 161 283]\n"
     ]
    }
   ],
   "source": [
    "sum_2Dim(matriz_2D())"
   ]
  },
  {
   "cell_type": "markdown",
   "id": "a4c91813",
   "metadata": {},
   "source": [
    "## Exercici 4\n",
    "Implementa manualment una funció que calculi el coeficient de correlació. Informa’t-en sobre els seus usos i interpretació."
   ]
  },
  {
   "cell_type": "markdown",
   "id": "875b2fd7",
   "metadata": {},
   "source": [
    "* Coeficiente de correlación de Pearson: https://es.wikipedia.org/wiki/Coeficiente_de_correlaci%C3%B3n_de_Pearson\n",
    "* Covarianza: https://es.wikipedia.org/wiki/Covarianza\n",
    "* Desviación estandard: https://es.wikipedia.org/wiki/Desviaci%C3%B3n_t%C3%ADpica\n",
    "* numpy.corrcoef: https://numpy.org/doc/stable/reference/generated/numpy.corrcoef.html\n",
    "* Calculo manual: https://es.slideshare.net/saulvalper/clculo-del-coeficiente-de-correlacin-de-pearson\n",
    "\n",
    "* https://www.w3schools.com/datascience/ds_stat_correlation_matrix.asp\n",
    "\n",
    "\n"
   ]
  },
  {
   "cell_type": "markdown",
   "id": "5fc70145",
   "metadata": {},
   "source": [
    "Para el cálculo manual utilizamos la secuencia explicada en\n",
    "\n",
    "https://es.slideshare.net/saulvalper/clculo-del-coeficiente-de-correlacin-de-pearson"
   ]
  },
  {
   "cell_type": "code",
   "execution_count": 107,
   "id": "82fff01b",
   "metadata": {},
   "outputs": [],
   "source": [
    "def corr_Pearson(X,Y):\n",
    "    \n",
    "    sumXY=np.sum(np.multiply(X, Y)) # sumatorio del multiplo (x*y) \n",
    "    sumX2=np.sum(np.power(X,2)) # sumatorio del cuadrado\n",
    "    sumY2=np.sum(np.power(Y,2))\n",
    "    #media\n",
    "    mediaX=np.mean(X)\n",
    "    mediaY=np.mean(Y)\n",
    "    \n",
    "    # desviacion tipica marginal  \n",
    "    desTipX=math.sqrt((sumX2/len(X))-(mediaX**2))\n",
    "    desTipY=math.sqrt((sumY2/len(X))-(mediaY**2))\n",
    "    \n",
    "    # covarancia\n",
    "    covarXY=(sumXY/len(X))-(mediaX*mediaY)\n",
    "    \n",
    "    ## Coeficiente correlacion de Pearson\n",
    "\n",
    "    coef_Correl=round(covarXY/(desTipX*desTipY),3)\n",
    "    \n",
    "    return coef_Correl\n"
   ]
  },
  {
   "cell_type": "code",
   "execution_count": 109,
   "id": "706a7105",
   "metadata": {},
   "outputs": [
    {
     "name": "stdout",
     "output_type": "stream",
     "text": [
      "0.986\n"
     ]
    }
   ],
   "source": [
    "X=[72,76,78,81,89,95,108,115,120,130]\n",
    "Y=[115,121,125,130,141,150,165,170,177,178]\n",
    "\n",
    "print(corr_Pearson(X,Y))"
   ]
  },
  {
   "cell_type": "markdown",
   "id": "498a3794",
   "metadata": {},
   "source": [
    "**Comprobación utilizando np.corrcoef(a,b)**"
   ]
  },
  {
   "cell_type": "code",
   "execution_count": 110,
   "id": "487cc3c7",
   "metadata": {},
   "outputs": [
    {
     "data": {
      "text/plain": [
       "array([[1.        , 0.98642594],\n",
       "       [0.98642594, 1.        ]])"
      ]
     },
     "execution_count": 110,
     "metadata": {},
     "output_type": "execute_result"
    }
   ],
   "source": [
    "np.corrcoef(Y,X)"
   ]
  }
 ],
 "metadata": {
  "kernelspec": {
   "display_name": "Python 3",
   "language": "python",
   "name": "python3"
  },
  "language_info": {
   "codemirror_mode": {
    "name": "ipython",
    "version": 3
   },
   "file_extension": ".py",
   "mimetype": "text/x-python",
   "name": "python",
   "nbconvert_exporter": "python",
   "pygments_lexer": "ipython3",
   "version": "3.8.8"
  }
 },
 "nbformat": 4,
 "nbformat_minor": 5
}
